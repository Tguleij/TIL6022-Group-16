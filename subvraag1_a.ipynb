{
 "cells": [
  {
   "cell_type": "code",
   "execution_count": 1,
   "id": "17beaa93",
   "metadata": {},
   "outputs": [
    {
     "name": "stdout",
     "output_type": "stream",
     "text": [
      "\n",
      "Tabel: kilometers (mln km), totalen (mln kg) en intensiteiten (g/km)\n",
      " Jaar   km_mln  CO2_mlnkg  NOx_mlnkg  PM10_mlnkg  CO2_g_per_km  NOx_g_per_km  PM10_g_per_km\n",
      " 2018 109337.4      17487      28.79        2.25    159.936124      0.263313       0.020579\n",
      " 2019 109086.8      17230      26.73        2.19    157.947616      0.245034       0.020076\n",
      " 2020  91723.0      14302      19.58        1.81    155.925995      0.213469       0.019733\n",
      " 2021  96988.8      14874      19.15        1.90    153.357913      0.197445       0.019590\n",
      " 2022 102679.6      15374      18.90        2.00    149.727891      0.184068       0.019478\n",
      " 2023 107143.1      15638      18.66        2.08    145.954336      0.174160       0.019413\n"
     ]
    },
    {
     "data": {
      "application/vnd.plotly.v1+json": {
       "config": {
        "plotlyServerURL": "https://plot.ly"
       },
       "data": [
        {
         "hovertemplate": "Jaar: %{x}<br>CO₂ (mln kg): %{y:.3f}<extra></extra>",
         "line": {
          "width": 3
         },
         "marker": {
          "size": 7
         },
         "mode": "lines+markers",
         "type": "scatter",
         "x": [
          "2018",
          "2019",
          "2020",
          "2021",
          "2022",
          "2023"
         ],
         "xaxis": "x",
         "y": {
          "bdata": "T0ROQ943GjoOPBY9",
          "dtype": "i2"
         },
         "yaxis": "y"
        },
        {
         "hovertemplate": "Jaar: %{x}<br>NOx (mln kg): %{y:.3f}<extra></extra>",
         "line": {
          "width": 3
         },
         "marker": {
          "size": 7
         },
         "mode": "lines+markers",
         "type": "scatter",
         "x": [
          "2018",
          "2019",
          "2020",
          "2021",
          "2022",
          "2023"
         ],
         "xaxis": "x2",
         "y": {
          "bdata": "CtejcD3KPEB7FK5H4bo6QBSuR+F6lDNAZmZmZmYmM0BmZmZmZuYyQClcj8L1qDJA",
          "dtype": "f8"
         },
         "yaxis": "y2"
        },
        {
         "hovertemplate": "Jaar: %{x}<br>PM10 (mln kg): %{y:.3f}<extra></extra>",
         "line": {
          "width": 3
         },
         "marker": {
          "size": 7
         },
         "mode": "lines+markers",
         "type": "scatter",
         "x": [
          "2018",
          "2019",
          "2020",
          "2021",
          "2022",
          "2023"
         ],
         "xaxis": "x3",
         "y": {
          "bdata": "AAAAAAAAAkCF61G4HoUBQPYoXI/C9fw/ZmZmZmZm/j8AAAAAAAAAQKRwPQrXowBA",
          "dtype": "f8"
         },
         "yaxis": "y3"
        }
       ],
       "layout": {
        "annotations": [
         {
          "font": {
           "size": 16
          },
          "showarrow": false,
          "text": "CO₂ total (mln kg)",
          "x": 0.13999999999999999,
          "xanchor": "center",
          "xref": "paper",
          "y": 1,
          "yanchor": "bottom",
          "yref": "paper"
         },
         {
          "font": {
           "size": 16
          },
          "showarrow": false,
          "text": "NOx total (mln kg)",
          "x": 0.49999999999999994,
          "xanchor": "center",
          "xref": "paper",
          "y": 1,
          "yanchor": "bottom",
          "yref": "paper"
         },
         {
          "font": {
           "size": 16
          },
          "showarrow": false,
          "text": "PM10 total (mln kg)",
          "x": 0.86,
          "xanchor": "center",
          "xref": "paper",
          "y": 1,
          "yanchor": "bottom",
          "yref": "paper"
         }
        ],
        "height": 380,
        "showlegend": false,
        "template": {
         "data": {
          "bar": [
           {
            "error_x": {
             "color": "#2a3f5f"
            },
            "error_y": {
             "color": "#2a3f5f"
            },
            "marker": {
             "line": {
              "color": "white",
              "width": 0.5
             },
             "pattern": {
              "fillmode": "overlay",
              "size": 10,
              "solidity": 0.2
             }
            },
            "type": "bar"
           }
          ],
          "barpolar": [
           {
            "marker": {
             "line": {
              "color": "white",
              "width": 0.5
             },
             "pattern": {
              "fillmode": "overlay",
              "size": 10,
              "solidity": 0.2
             }
            },
            "type": "barpolar"
           }
          ],
          "carpet": [
           {
            "aaxis": {
             "endlinecolor": "#2a3f5f",
             "gridcolor": "#C8D4E3",
             "linecolor": "#C8D4E3",
             "minorgridcolor": "#C8D4E3",
             "startlinecolor": "#2a3f5f"
            },
            "baxis": {
             "endlinecolor": "#2a3f5f",
             "gridcolor": "#C8D4E3",
             "linecolor": "#C8D4E3",
             "minorgridcolor": "#C8D4E3",
             "startlinecolor": "#2a3f5f"
            },
            "type": "carpet"
           }
          ],
          "choropleth": [
           {
            "colorbar": {
             "outlinewidth": 0,
             "ticks": ""
            },
            "type": "choropleth"
           }
          ],
          "contour": [
           {
            "colorbar": {
             "outlinewidth": 0,
             "ticks": ""
            },
            "colorscale": [
             [
              0,
              "#0d0887"
             ],
             [
              0.1111111111111111,
              "#46039f"
             ],
             [
              0.2222222222222222,
              "#7201a8"
             ],
             [
              0.3333333333333333,
              "#9c179e"
             ],
             [
              0.4444444444444444,
              "#bd3786"
             ],
             [
              0.5555555555555556,
              "#d8576b"
             ],
             [
              0.6666666666666666,
              "#ed7953"
             ],
             [
              0.7777777777777778,
              "#fb9f3a"
             ],
             [
              0.8888888888888888,
              "#fdca26"
             ],
             [
              1,
              "#f0f921"
             ]
            ],
            "type": "contour"
           }
          ],
          "contourcarpet": [
           {
            "colorbar": {
             "outlinewidth": 0,
             "ticks": ""
            },
            "type": "contourcarpet"
           }
          ],
          "heatmap": [
           {
            "colorbar": {
             "outlinewidth": 0,
             "ticks": ""
            },
            "colorscale": [
             [
              0,
              "#0d0887"
             ],
             [
              0.1111111111111111,
              "#46039f"
             ],
             [
              0.2222222222222222,
              "#7201a8"
             ],
             [
              0.3333333333333333,
              "#9c179e"
             ],
             [
              0.4444444444444444,
              "#bd3786"
             ],
             [
              0.5555555555555556,
              "#d8576b"
             ],
             [
              0.6666666666666666,
              "#ed7953"
             ],
             [
              0.7777777777777778,
              "#fb9f3a"
             ],
             [
              0.8888888888888888,
              "#fdca26"
             ],
             [
              1,
              "#f0f921"
             ]
            ],
            "type": "heatmap"
           }
          ],
          "histogram": [
           {
            "marker": {
             "pattern": {
              "fillmode": "overlay",
              "size": 10,
              "solidity": 0.2
             }
            },
            "type": "histogram"
           }
          ],
          "histogram2d": [
           {
            "colorbar": {
             "outlinewidth": 0,
             "ticks": ""
            },
            "colorscale": [
             [
              0,
              "#0d0887"
             ],
             [
              0.1111111111111111,
              "#46039f"
             ],
             [
              0.2222222222222222,
              "#7201a8"
             ],
             [
              0.3333333333333333,
              "#9c179e"
             ],
             [
              0.4444444444444444,
              "#bd3786"
             ],
             [
              0.5555555555555556,
              "#d8576b"
             ],
             [
              0.6666666666666666,
              "#ed7953"
             ],
             [
              0.7777777777777778,
              "#fb9f3a"
             ],
             [
              0.8888888888888888,
              "#fdca26"
             ],
             [
              1,
              "#f0f921"
             ]
            ],
            "type": "histogram2d"
           }
          ],
          "histogram2dcontour": [
           {
            "colorbar": {
             "outlinewidth": 0,
             "ticks": ""
            },
            "colorscale": [
             [
              0,
              "#0d0887"
             ],
             [
              0.1111111111111111,
              "#46039f"
             ],
             [
              0.2222222222222222,
              "#7201a8"
             ],
             [
              0.3333333333333333,
              "#9c179e"
             ],
             [
              0.4444444444444444,
              "#bd3786"
             ],
             [
              0.5555555555555556,
              "#d8576b"
             ],
             [
              0.6666666666666666,
              "#ed7953"
             ],
             [
              0.7777777777777778,
              "#fb9f3a"
             ],
             [
              0.8888888888888888,
              "#fdca26"
             ],
             [
              1,
              "#f0f921"
             ]
            ],
            "type": "histogram2dcontour"
           }
          ],
          "mesh3d": [
           {
            "colorbar": {
             "outlinewidth": 0,
             "ticks": ""
            },
            "type": "mesh3d"
           }
          ],
          "parcoords": [
           {
            "line": {
             "colorbar": {
              "outlinewidth": 0,
              "ticks": ""
             }
            },
            "type": "parcoords"
           }
          ],
          "pie": [
           {
            "automargin": true,
            "type": "pie"
           }
          ],
          "scatter": [
           {
            "fillpattern": {
             "fillmode": "overlay",
             "size": 10,
             "solidity": 0.2
            },
            "type": "scatter"
           }
          ],
          "scatter3d": [
           {
            "line": {
             "colorbar": {
              "outlinewidth": 0,
              "ticks": ""
             }
            },
            "marker": {
             "colorbar": {
              "outlinewidth": 0,
              "ticks": ""
             }
            },
            "type": "scatter3d"
           }
          ],
          "scattercarpet": [
           {
            "marker": {
             "colorbar": {
              "outlinewidth": 0,
              "ticks": ""
             }
            },
            "type": "scattercarpet"
           }
          ],
          "scattergeo": [
           {
            "marker": {
             "colorbar": {
              "outlinewidth": 0,
              "ticks": ""
             }
            },
            "type": "scattergeo"
           }
          ],
          "scattergl": [
           {
            "marker": {
             "colorbar": {
              "outlinewidth": 0,
              "ticks": ""
             }
            },
            "type": "scattergl"
           }
          ],
          "scattermap": [
           {
            "marker": {
             "colorbar": {
              "outlinewidth": 0,
              "ticks": ""
             }
            },
            "type": "scattermap"
           }
          ],
          "scattermapbox": [
           {
            "marker": {
             "colorbar": {
              "outlinewidth": 0,
              "ticks": ""
             }
            },
            "type": "scattermapbox"
           }
          ],
          "scatterpolar": [
           {
            "marker": {
             "colorbar": {
              "outlinewidth": 0,
              "ticks": ""
             }
            },
            "type": "scatterpolar"
           }
          ],
          "scatterpolargl": [
           {
            "marker": {
             "colorbar": {
              "outlinewidth": 0,
              "ticks": ""
             }
            },
            "type": "scatterpolargl"
           }
          ],
          "scatterternary": [
           {
            "marker": {
             "colorbar": {
              "outlinewidth": 0,
              "ticks": ""
             }
            },
            "type": "scatterternary"
           }
          ],
          "surface": [
           {
            "colorbar": {
             "outlinewidth": 0,
             "ticks": ""
            },
            "colorscale": [
             [
              0,
              "#0d0887"
             ],
             [
              0.1111111111111111,
              "#46039f"
             ],
             [
              0.2222222222222222,
              "#7201a8"
             ],
             [
              0.3333333333333333,
              "#9c179e"
             ],
             [
              0.4444444444444444,
              "#bd3786"
             ],
             [
              0.5555555555555556,
              "#d8576b"
             ],
             [
              0.6666666666666666,
              "#ed7953"
             ],
             [
              0.7777777777777778,
              "#fb9f3a"
             ],
             [
              0.8888888888888888,
              "#fdca26"
             ],
             [
              1,
              "#f0f921"
             ]
            ],
            "type": "surface"
           }
          ],
          "table": [
           {
            "cells": {
             "fill": {
              "color": "#EBF0F8"
             },
             "line": {
              "color": "white"
             }
            },
            "header": {
             "fill": {
              "color": "#C8D4E3"
             },
             "line": {
              "color": "white"
             }
            },
            "type": "table"
           }
          ]
         },
         "layout": {
          "annotationdefaults": {
           "arrowcolor": "#2a3f5f",
           "arrowhead": 0,
           "arrowwidth": 1
          },
          "autotypenumbers": "strict",
          "coloraxis": {
           "colorbar": {
            "outlinewidth": 0,
            "ticks": ""
           }
          },
          "colorscale": {
           "diverging": [
            [
             0,
             "#8e0152"
            ],
            [
             0.1,
             "#c51b7d"
            ],
            [
             0.2,
             "#de77ae"
            ],
            [
             0.3,
             "#f1b6da"
            ],
            [
             0.4,
             "#fde0ef"
            ],
            [
             0.5,
             "#f7f7f7"
            ],
            [
             0.6,
             "#e6f5d0"
            ],
            [
             0.7,
             "#b8e186"
            ],
            [
             0.8,
             "#7fbc41"
            ],
            [
             0.9,
             "#4d9221"
            ],
            [
             1,
             "#276419"
            ]
           ],
           "sequential": [
            [
             0,
             "#0d0887"
            ],
            [
             0.1111111111111111,
             "#46039f"
            ],
            [
             0.2222222222222222,
             "#7201a8"
            ],
            [
             0.3333333333333333,
             "#9c179e"
            ],
            [
             0.4444444444444444,
             "#bd3786"
            ],
            [
             0.5555555555555556,
             "#d8576b"
            ],
            [
             0.6666666666666666,
             "#ed7953"
            ],
            [
             0.7777777777777778,
             "#fb9f3a"
            ],
            [
             0.8888888888888888,
             "#fdca26"
            ],
            [
             1,
             "#f0f921"
            ]
           ],
           "sequentialminus": [
            [
             0,
             "#0d0887"
            ],
            [
             0.1111111111111111,
             "#46039f"
            ],
            [
             0.2222222222222222,
             "#7201a8"
            ],
            [
             0.3333333333333333,
             "#9c179e"
            ],
            [
             0.4444444444444444,
             "#bd3786"
            ],
            [
             0.5555555555555556,
             "#d8576b"
            ],
            [
             0.6666666666666666,
             "#ed7953"
            ],
            [
             0.7777777777777778,
             "#fb9f3a"
            ],
            [
             0.8888888888888888,
             "#fdca26"
            ],
            [
             1,
             "#f0f921"
            ]
           ]
          },
          "colorway": [
           "#636efa",
           "#EF553B",
           "#00cc96",
           "#ab63fa",
           "#FFA15A",
           "#19d3f3",
           "#FF6692",
           "#B6E880",
           "#FF97FF",
           "#FECB52"
          ],
          "font": {
           "color": "#2a3f5f"
          },
          "geo": {
           "bgcolor": "white",
           "lakecolor": "white",
           "landcolor": "white",
           "showlakes": true,
           "showland": true,
           "subunitcolor": "#C8D4E3"
          },
          "hoverlabel": {
           "align": "left"
          },
          "hovermode": "closest",
          "mapbox": {
           "style": "light"
          },
          "paper_bgcolor": "white",
          "plot_bgcolor": "white",
          "polar": {
           "angularaxis": {
            "gridcolor": "#EBF0F8",
            "linecolor": "#EBF0F8",
            "ticks": ""
           },
           "bgcolor": "white",
           "radialaxis": {
            "gridcolor": "#EBF0F8",
            "linecolor": "#EBF0F8",
            "ticks": ""
           }
          },
          "scene": {
           "xaxis": {
            "backgroundcolor": "white",
            "gridcolor": "#DFE8F3",
            "gridwidth": 2,
            "linecolor": "#EBF0F8",
            "showbackground": true,
            "ticks": "",
            "zerolinecolor": "#EBF0F8"
           },
           "yaxis": {
            "backgroundcolor": "white",
            "gridcolor": "#DFE8F3",
            "gridwidth": 2,
            "linecolor": "#EBF0F8",
            "showbackground": true,
            "ticks": "",
            "zerolinecolor": "#EBF0F8"
           },
           "zaxis": {
            "backgroundcolor": "white",
            "gridcolor": "#DFE8F3",
            "gridwidth": 2,
            "linecolor": "#EBF0F8",
            "showbackground": true,
            "ticks": "",
            "zerolinecolor": "#EBF0F8"
           }
          },
          "shapedefaults": {
           "line": {
            "color": "#2a3f5f"
           }
          },
          "ternary": {
           "aaxis": {
            "gridcolor": "#DFE8F3",
            "linecolor": "#A2B1C6",
            "ticks": ""
           },
           "baxis": {
            "gridcolor": "#DFE8F3",
            "linecolor": "#A2B1C6",
            "ticks": ""
           },
           "bgcolor": "white",
           "caxis": {
            "gridcolor": "#DFE8F3",
            "linecolor": "#A2B1C6",
            "ticks": ""
           }
          },
          "title": {
           "x": 0.05
          },
          "xaxis": {
           "automargin": true,
           "gridcolor": "#EBF0F8",
           "linecolor": "#EBF0F8",
           "ticks": "",
           "title": {
            "standoff": 15
           },
           "zerolinecolor": "#EBF0F8",
           "zerolinewidth": 2
          },
          "yaxis": {
           "automargin": true,
           "gridcolor": "#EBF0F8",
           "linecolor": "#EBF0F8",
           "ticks": "",
           "title": {
            "standoff": 15
           },
           "zerolinecolor": "#EBF0F8",
           "zerolinewidth": 2
          }
         }
        },
        "title": {
         "text": "Passenger cars — total emissions per year"
        },
        "width": 1100,
        "xaxis": {
         "anchor": "y",
         "domain": [
          0,
          0.27999999999999997
         ],
         "title": {
          "text": "Jaar"
         }
        },
        "xaxis2": {
         "anchor": "y2",
         "domain": [
          0.36,
          0.6399999999999999
         ],
         "title": {
          "text": "Jaar"
         }
        },
        "xaxis3": {
         "anchor": "y3",
         "domain": [
          0.72,
          1
         ],
         "title": {
          "text": "Jaar"
         }
        },
        "yaxis": {
         "anchor": "x",
         "domain": [
          0,
          1
         ],
         "rangemode": "tozero",
         "title": {
          "text": "CO₂ (mln kg)"
         }
        },
        "yaxis2": {
         "anchor": "x2",
         "domain": [
          0,
          1
         ],
         "rangemode": "tozero",
         "title": {
          "text": "NOx (mln kg)"
         }
        },
        "yaxis3": {
         "anchor": "x3",
         "domain": [
          0,
          1
         ],
         "rangemode": "tozero",
         "title": {
          "text": "PM10 (mln kg)"
         }
        }
       }
      }
     },
     "metadata": {},
     "output_type": "display_data"
    },
    {
     "data": {
      "application/vnd.plotly.v1+json": {
       "config": {
        "plotlyServerURL": "https://plot.ly"
       },
       "data": [
        {
         "hovertemplate": "Jaar: %{x}<br>CO₂ (g/km): %{y:.3f}<extra></extra>",
         "line": {
          "width": 3
         },
         "marker": {
          "size": 7
         },
         "mode": "lines+markers",
         "type": "scatter",
         "x": [
          "2018",
          "2019",
          "2020",
          "2021",
          "2022",
          "2023"
         ],
         "xaxis": "x",
         "y": {
          "bdata": "9jkBu/T9Y0BbktjeUr5jQE2hXb+hfWNAXFr+BnQrY0AfSPPiSrdiQPITT+uJPmJA",
          "dtype": "f8"
         },
         "yaxis": "y"
        },
        {
         "hovertemplate": "Jaar: %{x}<br>NOx (g/km): %{y:.3f}<extra></extra>",
         "line": {
          "width": 3
         },
         "marker": {
          "size": 7
         },
         "mode": "lines+markers",
         "type": "scatter",
         "x": [
          "2018",
          "2019",
          "2020",
          "2021",
          "2022",
          "2023"
         ],
         "xaxis": "x2",
         "y": {
          "bdata": "Fb9xWSDa0D9ZnlAZSF3PP/tPzTLyUss/3sTkt+RFyT9LO7P1h4/HP6cnZKjcSsY/",
          "dtype": "f8"
         },
         "yaxis": "y2"
        },
        {
         "hovertemplate": "Jaar: %{x}<br>PM10 (g/km): %{y:.3f}<extra></extra>",
         "line": {
          "width": 3
         },
         "marker": {
          "size": 7
         },
         "mode": "lines+markers",
         "type": "scatter",
         "x": [
          "2018",
          "2019",
          "2020",
          "2021",
          "2022",
          "2023"
         ],
         "xaxis": "x3",
         "y": {
          "bdata": "CEhb84cSlT/IMw8xvY6UP04zVjH5NJQ/34YgUV8PlD88iovdDvKTPwFSHssT4ZM/",
          "dtype": "f8"
         },
         "yaxis": "y3"
        }
       ],
       "layout": {
        "annotations": [
         {
          "font": {
           "size": 16
          },
          "showarrow": false,
          "text": "CO₂ intensity (g/km)",
          "x": 0.13999999999999999,
          "xanchor": "center",
          "xref": "paper",
          "y": 1,
          "yanchor": "bottom",
          "yref": "paper"
         },
         {
          "font": {
           "size": 16
          },
          "showarrow": false,
          "text": "NOx intensity (g/km)",
          "x": 0.49999999999999994,
          "xanchor": "center",
          "xref": "paper",
          "y": 1,
          "yanchor": "bottom",
          "yref": "paper"
         },
         {
          "font": {
           "size": 16
          },
          "showarrow": false,
          "text": "PM10 intensity (g/km)",
          "x": 0.86,
          "xanchor": "center",
          "xref": "paper",
          "y": 1,
          "yanchor": "bottom",
          "yref": "paper"
         }
        ],
        "height": 380,
        "showlegend": false,
        "template": {
         "data": {
          "bar": [
           {
            "error_x": {
             "color": "#2a3f5f"
            },
            "error_y": {
             "color": "#2a3f5f"
            },
            "marker": {
             "line": {
              "color": "white",
              "width": 0.5
             },
             "pattern": {
              "fillmode": "overlay",
              "size": 10,
              "solidity": 0.2
             }
            },
            "type": "bar"
           }
          ],
          "barpolar": [
           {
            "marker": {
             "line": {
              "color": "white",
              "width": 0.5
             },
             "pattern": {
              "fillmode": "overlay",
              "size": 10,
              "solidity": 0.2
             }
            },
            "type": "barpolar"
           }
          ],
          "carpet": [
           {
            "aaxis": {
             "endlinecolor": "#2a3f5f",
             "gridcolor": "#C8D4E3",
             "linecolor": "#C8D4E3",
             "minorgridcolor": "#C8D4E3",
             "startlinecolor": "#2a3f5f"
            },
            "baxis": {
             "endlinecolor": "#2a3f5f",
             "gridcolor": "#C8D4E3",
             "linecolor": "#C8D4E3",
             "minorgridcolor": "#C8D4E3",
             "startlinecolor": "#2a3f5f"
            },
            "type": "carpet"
           }
          ],
          "choropleth": [
           {
            "colorbar": {
             "outlinewidth": 0,
             "ticks": ""
            },
            "type": "choropleth"
           }
          ],
          "contour": [
           {
            "colorbar": {
             "outlinewidth": 0,
             "ticks": ""
            },
            "colorscale": [
             [
              0,
              "#0d0887"
             ],
             [
              0.1111111111111111,
              "#46039f"
             ],
             [
              0.2222222222222222,
              "#7201a8"
             ],
             [
              0.3333333333333333,
              "#9c179e"
             ],
             [
              0.4444444444444444,
              "#bd3786"
             ],
             [
              0.5555555555555556,
              "#d8576b"
             ],
             [
              0.6666666666666666,
              "#ed7953"
             ],
             [
              0.7777777777777778,
              "#fb9f3a"
             ],
             [
              0.8888888888888888,
              "#fdca26"
             ],
             [
              1,
              "#f0f921"
             ]
            ],
            "type": "contour"
           }
          ],
          "contourcarpet": [
           {
            "colorbar": {
             "outlinewidth": 0,
             "ticks": ""
            },
            "type": "contourcarpet"
           }
          ],
          "heatmap": [
           {
            "colorbar": {
             "outlinewidth": 0,
             "ticks": ""
            },
            "colorscale": [
             [
              0,
              "#0d0887"
             ],
             [
              0.1111111111111111,
              "#46039f"
             ],
             [
              0.2222222222222222,
              "#7201a8"
             ],
             [
              0.3333333333333333,
              "#9c179e"
             ],
             [
              0.4444444444444444,
              "#bd3786"
             ],
             [
              0.5555555555555556,
              "#d8576b"
             ],
             [
              0.6666666666666666,
              "#ed7953"
             ],
             [
              0.7777777777777778,
              "#fb9f3a"
             ],
             [
              0.8888888888888888,
              "#fdca26"
             ],
             [
              1,
              "#f0f921"
             ]
            ],
            "type": "heatmap"
           }
          ],
          "histogram": [
           {
            "marker": {
             "pattern": {
              "fillmode": "overlay",
              "size": 10,
              "solidity": 0.2
             }
            },
            "type": "histogram"
           }
          ],
          "histogram2d": [
           {
            "colorbar": {
             "outlinewidth": 0,
             "ticks": ""
            },
            "colorscale": [
             [
              0,
              "#0d0887"
             ],
             [
              0.1111111111111111,
              "#46039f"
             ],
             [
              0.2222222222222222,
              "#7201a8"
             ],
             [
              0.3333333333333333,
              "#9c179e"
             ],
             [
              0.4444444444444444,
              "#bd3786"
             ],
             [
              0.5555555555555556,
              "#d8576b"
             ],
             [
              0.6666666666666666,
              "#ed7953"
             ],
             [
              0.7777777777777778,
              "#fb9f3a"
             ],
             [
              0.8888888888888888,
              "#fdca26"
             ],
             [
              1,
              "#f0f921"
             ]
            ],
            "type": "histogram2d"
           }
          ],
          "histogram2dcontour": [
           {
            "colorbar": {
             "outlinewidth": 0,
             "ticks": ""
            },
            "colorscale": [
             [
              0,
              "#0d0887"
             ],
             [
              0.1111111111111111,
              "#46039f"
             ],
             [
              0.2222222222222222,
              "#7201a8"
             ],
             [
              0.3333333333333333,
              "#9c179e"
             ],
             [
              0.4444444444444444,
              "#bd3786"
             ],
             [
              0.5555555555555556,
              "#d8576b"
             ],
             [
              0.6666666666666666,
              "#ed7953"
             ],
             [
              0.7777777777777778,
              "#fb9f3a"
             ],
             [
              0.8888888888888888,
              "#fdca26"
             ],
             [
              1,
              "#f0f921"
             ]
            ],
            "type": "histogram2dcontour"
           }
          ],
          "mesh3d": [
           {
            "colorbar": {
             "outlinewidth": 0,
             "ticks": ""
            },
            "type": "mesh3d"
           }
          ],
          "parcoords": [
           {
            "line": {
             "colorbar": {
              "outlinewidth": 0,
              "ticks": ""
             }
            },
            "type": "parcoords"
           }
          ],
          "pie": [
           {
            "automargin": true,
            "type": "pie"
           }
          ],
          "scatter": [
           {
            "fillpattern": {
             "fillmode": "overlay",
             "size": 10,
             "solidity": 0.2
            },
            "type": "scatter"
           }
          ],
          "scatter3d": [
           {
            "line": {
             "colorbar": {
              "outlinewidth": 0,
              "ticks": ""
             }
            },
            "marker": {
             "colorbar": {
              "outlinewidth": 0,
              "ticks": ""
             }
            },
            "type": "scatter3d"
           }
          ],
          "scattercarpet": [
           {
            "marker": {
             "colorbar": {
              "outlinewidth": 0,
              "ticks": ""
             }
            },
            "type": "scattercarpet"
           }
          ],
          "scattergeo": [
           {
            "marker": {
             "colorbar": {
              "outlinewidth": 0,
              "ticks": ""
             }
            },
            "type": "scattergeo"
           }
          ],
          "scattergl": [
           {
            "marker": {
             "colorbar": {
              "outlinewidth": 0,
              "ticks": ""
             }
            },
            "type": "scattergl"
           }
          ],
          "scattermap": [
           {
            "marker": {
             "colorbar": {
              "outlinewidth": 0,
              "ticks": ""
             }
            },
            "type": "scattermap"
           }
          ],
          "scattermapbox": [
           {
            "marker": {
             "colorbar": {
              "outlinewidth": 0,
              "ticks": ""
             }
            },
            "type": "scattermapbox"
           }
          ],
          "scatterpolar": [
           {
            "marker": {
             "colorbar": {
              "outlinewidth": 0,
              "ticks": ""
             }
            },
            "type": "scatterpolar"
           }
          ],
          "scatterpolargl": [
           {
            "marker": {
             "colorbar": {
              "outlinewidth": 0,
              "ticks": ""
             }
            },
            "type": "scatterpolargl"
           }
          ],
          "scatterternary": [
           {
            "marker": {
             "colorbar": {
              "outlinewidth": 0,
              "ticks": ""
             }
            },
            "type": "scatterternary"
           }
          ],
          "surface": [
           {
            "colorbar": {
             "outlinewidth": 0,
             "ticks": ""
            },
            "colorscale": [
             [
              0,
              "#0d0887"
             ],
             [
              0.1111111111111111,
              "#46039f"
             ],
             [
              0.2222222222222222,
              "#7201a8"
             ],
             [
              0.3333333333333333,
              "#9c179e"
             ],
             [
              0.4444444444444444,
              "#bd3786"
             ],
             [
              0.5555555555555556,
              "#d8576b"
             ],
             [
              0.6666666666666666,
              "#ed7953"
             ],
             [
              0.7777777777777778,
              "#fb9f3a"
             ],
             [
              0.8888888888888888,
              "#fdca26"
             ],
             [
              1,
              "#f0f921"
             ]
            ],
            "type": "surface"
           }
          ],
          "table": [
           {
            "cells": {
             "fill": {
              "color": "#EBF0F8"
             },
             "line": {
              "color": "white"
             }
            },
            "header": {
             "fill": {
              "color": "#C8D4E3"
             },
             "line": {
              "color": "white"
             }
            },
            "type": "table"
           }
          ]
         },
         "layout": {
          "annotationdefaults": {
           "arrowcolor": "#2a3f5f",
           "arrowhead": 0,
           "arrowwidth": 1
          },
          "autotypenumbers": "strict",
          "coloraxis": {
           "colorbar": {
            "outlinewidth": 0,
            "ticks": ""
           }
          },
          "colorscale": {
           "diverging": [
            [
             0,
             "#8e0152"
            ],
            [
             0.1,
             "#c51b7d"
            ],
            [
             0.2,
             "#de77ae"
            ],
            [
             0.3,
             "#f1b6da"
            ],
            [
             0.4,
             "#fde0ef"
            ],
            [
             0.5,
             "#f7f7f7"
            ],
            [
             0.6,
             "#e6f5d0"
            ],
            [
             0.7,
             "#b8e186"
            ],
            [
             0.8,
             "#7fbc41"
            ],
            [
             0.9,
             "#4d9221"
            ],
            [
             1,
             "#276419"
            ]
           ],
           "sequential": [
            [
             0,
             "#0d0887"
            ],
            [
             0.1111111111111111,
             "#46039f"
            ],
            [
             0.2222222222222222,
             "#7201a8"
            ],
            [
             0.3333333333333333,
             "#9c179e"
            ],
            [
             0.4444444444444444,
             "#bd3786"
            ],
            [
             0.5555555555555556,
             "#d8576b"
            ],
            [
             0.6666666666666666,
             "#ed7953"
            ],
            [
             0.7777777777777778,
             "#fb9f3a"
            ],
            [
             0.8888888888888888,
             "#fdca26"
            ],
            [
             1,
             "#f0f921"
            ]
           ],
           "sequentialminus": [
            [
             0,
             "#0d0887"
            ],
            [
             0.1111111111111111,
             "#46039f"
            ],
            [
             0.2222222222222222,
             "#7201a8"
            ],
            [
             0.3333333333333333,
             "#9c179e"
            ],
            [
             0.4444444444444444,
             "#bd3786"
            ],
            [
             0.5555555555555556,
             "#d8576b"
            ],
            [
             0.6666666666666666,
             "#ed7953"
            ],
            [
             0.7777777777777778,
             "#fb9f3a"
            ],
            [
             0.8888888888888888,
             "#fdca26"
            ],
            [
             1,
             "#f0f921"
            ]
           ]
          },
          "colorway": [
           "#636efa",
           "#EF553B",
           "#00cc96",
           "#ab63fa",
           "#FFA15A",
           "#19d3f3",
           "#FF6692",
           "#B6E880",
           "#FF97FF",
           "#FECB52"
          ],
          "font": {
           "color": "#2a3f5f"
          },
          "geo": {
           "bgcolor": "white",
           "lakecolor": "white",
           "landcolor": "white",
           "showlakes": true,
           "showland": true,
           "subunitcolor": "#C8D4E3"
          },
          "hoverlabel": {
           "align": "left"
          },
          "hovermode": "closest",
          "mapbox": {
           "style": "light"
          },
          "paper_bgcolor": "white",
          "plot_bgcolor": "white",
          "polar": {
           "angularaxis": {
            "gridcolor": "#EBF0F8",
            "linecolor": "#EBF0F8",
            "ticks": ""
           },
           "bgcolor": "white",
           "radialaxis": {
            "gridcolor": "#EBF0F8",
            "linecolor": "#EBF0F8",
            "ticks": ""
           }
          },
          "scene": {
           "xaxis": {
            "backgroundcolor": "white",
            "gridcolor": "#DFE8F3",
            "gridwidth": 2,
            "linecolor": "#EBF0F8",
            "showbackground": true,
            "ticks": "",
            "zerolinecolor": "#EBF0F8"
           },
           "yaxis": {
            "backgroundcolor": "white",
            "gridcolor": "#DFE8F3",
            "gridwidth": 2,
            "linecolor": "#EBF0F8",
            "showbackground": true,
            "ticks": "",
            "zerolinecolor": "#EBF0F8"
           },
           "zaxis": {
            "backgroundcolor": "white",
            "gridcolor": "#DFE8F3",
            "gridwidth": 2,
            "linecolor": "#EBF0F8",
            "showbackground": true,
            "ticks": "",
            "zerolinecolor": "#EBF0F8"
           }
          },
          "shapedefaults": {
           "line": {
            "color": "#2a3f5f"
           }
          },
          "ternary": {
           "aaxis": {
            "gridcolor": "#DFE8F3",
            "linecolor": "#A2B1C6",
            "ticks": ""
           },
           "baxis": {
            "gridcolor": "#DFE8F3",
            "linecolor": "#A2B1C6",
            "ticks": ""
           },
           "bgcolor": "white",
           "caxis": {
            "gridcolor": "#DFE8F3",
            "linecolor": "#A2B1C6",
            "ticks": ""
           }
          },
          "title": {
           "x": 0.05
          },
          "xaxis": {
           "automargin": true,
           "gridcolor": "#EBF0F8",
           "linecolor": "#EBF0F8",
           "ticks": "",
           "title": {
            "standoff": 15
           },
           "zerolinecolor": "#EBF0F8",
           "zerolinewidth": 2
          },
          "yaxis": {
           "automargin": true,
           "gridcolor": "#EBF0F8",
           "linecolor": "#EBF0F8",
           "ticks": "",
           "title": {
            "standoff": 15
           },
           "zerolinecolor": "#EBF0F8",
           "zerolinewidth": 2
          }
         }
        },
        "title": {
         "text": "Passenger cars — emission intensities (g/km)"
        },
        "width": 1100,
        "xaxis": {
         "anchor": "y",
         "domain": [
          0,
          0.27999999999999997
         ],
         "title": {
          "text": "Jaar"
         }
        },
        "xaxis2": {
         "anchor": "y2",
         "domain": [
          0.36,
          0.6399999999999999
         ],
         "title": {
          "text": "Jaar"
         }
        },
        "xaxis3": {
         "anchor": "y3",
         "domain": [
          0.72,
          1
         ],
         "title": {
          "text": "Jaar"
         }
        },
        "yaxis": {
         "anchor": "x",
         "domain": [
          0,
          1
         ],
         "rangemode": "tozero",
         "title": {
          "text": "CO₂ (g/km)"
         }
        },
        "yaxis2": {
         "anchor": "x2",
         "domain": [
          0,
          1
         ],
         "rangemode": "tozero",
         "title": {
          "text": "NOx (g/km)"
         }
        },
        "yaxis3": {
         "anchor": "x3",
         "domain": [
          0,
          1
         ],
         "rangemode": "tozero",
         "title": {
          "text": "PM10 (g/km)"
         }
        }
       }
      }
     },
     "metadata": {},
     "output_type": "display_data"
    }
   ],
   "source": [
    "import re\n",
    "import pandas as pd\n",
    "import matplotlib.pyplot as plt\n",
    "import plotly.graph_objects as go\n",
    "from plotly.subplots import make_subplots\n",
    "\n",
    "# ========= Bestanden =========\n",
    "path_emissies = \"Emissies_Nederland__wegverkeer_13102025_110220.csv\"\n",
    "path_km       = \"Verkeer_motorvoertuigen_13102025_105929.csv\"\n",
    "electric_vehicles = \"Procentuele aandeel BEV_ FCEV en PHEV personenauto's in het wagenpark.csv\"\n",
    "\n",
    "def find_col(df, startswith):\n",
    "    \"\"\"Zoek kolom die met 'startswith' begint (CBS wisselt soms subtitels).\"\"\"\n",
    "    for c in df.columns:\n",
    "        if str(c).startswith(startswith):\n",
    "            return c\n",
    "    return None\n",
    "\n",
    "df_e = pd.read_csv(path_emissies, sep=';', encoding='utf-8-sig', quotechar='\"', decimal=',')\n",
    "df_km = pd.read_csv(path_km,       sep=';', encoding='utf-8-sig', quotechar='\"', decimal=',')\n",
    "\n",
    "co2_col  = find_col(df_e, \"Emissies/Kooldioxide (CO2)\")\n",
    "nox_col  = find_col(df_e, \"Emissies/Stikstofoxiden (NOx)\")\n",
    "pm10_col = find_col(df_e, \"Emissies/PM10 Totaal\")\n",
    "if not all([co2_col, nox_col, pm10_col]):\n",
    "    raise ValueError(\"Kon CO₂/NOx/PM10-kolommen niet vinden in het emissies-bestand.\")\n",
    "\n",
    "d_e = df_e[df_e['Voertuigtype'] == \"Personenauto's\"].copy()\n",
    "d_e['Jaar'] = d_e['Perioden'].astype(str).str.extract(r'(\\d{4})').astype(int)\n",
    "d_e = d_e[(d_e['Jaar'] >= 2018) & (d_e['Jaar'] <= 2023)]\n",
    "\n",
    "d_e = d_e[['Jaar', co2_col, nox_col, pm10_col]].rename(columns={\n",
    "    co2_col:  'CO2_mlnkg',\n",
    "    nox_col:  'NOx_mlnkg',\n",
    "    pm10_col: 'PM10_mlnkg'\n",
    "}).sort_values('Jaar')\n",
    "\n",
    "km_total_col = find_col(df_km, \"Kilometers in Nederland/Totaal kilometers in Nederland\")\n",
    "if not km_total_col:\n",
    "    raise ValueError(\"Kon kolom 'Kilometers in Nederland/Totaal kilometers in Nederland (x mln km)' niet vinden in km-bestand.\")\n",
    "\n",
    "d_km = df_km[df_km['Voertuigtypes'] == 'Personenauto'].copy()\n",
    "d_km['Jaar'] = d_km['Perioden'].astype(str).str.extract(r'(\\d{4})').astype(int)\n",
    "d_km = d_km[['Jaar', km_total_col]].rename(columns={km_total_col: 'km_mln'}).sort_values('Jaar')\n",
    "\n",
    "df = d_e.merge(d_km, on='Jaar', how='inner')\n",
    "\n",
    "df['CO2_g_per_km']  = (df['CO2_mlnkg']  * 1000) / df['km_mln']\n",
    "df['NOx_g_per_km']  = (df['NOx_mlnkg']  * 1000) / df['km_mln']\n",
    "df['PM10_g_per_km'] = (df['PM10_mlnkg'] * 1000) / df['km_mln']\n",
    "\n",
    "print(\"\\nTabel: kilometers (mln km), totalen (mln kg) en intensiteiten (g/km)\")\n",
    "print(df[['Jaar', 'km_mln', 'CO2_mlnkg', 'NOx_mlnkg', 'PM10_mlnkg',\n",
    "          'CO2_g_per_km', 'NOx_g_per_km', 'PM10_g_per_km']].to_string(index=False))\n",
    "\n",
    "def three_line_subplots(dataframe, x_col, y_cols, titles, ylabels, main_title):\n",
    "    \"\"\"Maakt 3 subplots naast elkaar met lines+markers (Plotly).\"\"\"\n",
    "    x_vals = dataframe[x_col].astype(str)\n",
    "    fig = make_subplots(rows=1, cols=3, subplot_titles=titles, horizontal_spacing=0.08)\n",
    "    for i, (y, ylabel) in enumerate(zip(y_cols, ylabels), start=1):\n",
    "        fig.add_trace(\n",
    "            go.Scatter(\n",
    "                x=x_vals, y=dataframe[y],\n",
    "                mode=\"lines+markers\",\n",
    "                marker=dict(size=7),\n",
    "                line=dict(width=3),\n",
    "                hovertemplate=\"Jaar: %{x}<br>\" + f\"{ylabel}: \" + \"%{y:.3f}<extra></extra>\"\n",
    "            ),\n",
    "            row=1, col=i\n",
    "        )\n",
    "        fig.update_xaxes(title_text=\"Jaar\", row=1, col=i)\n",
    "        fig.update_yaxes(title_text=ylabel, rangemode=\"tozero\", row=1, col=i)\n",
    "    fig.update_layout(template=\"plotly_white\", showlegend=False,\n",
    "                      height=380, width=1100, title_text=main_title)\n",
    "    return fig\n",
    "\n",
    "fig_totals = three_line_subplots(\n",
    "    df, 'Jaar',\n",
    "    y_cols=['CO2_mlnkg', 'NOx_mlnkg', 'PM10_mlnkg'],\n",
    "    titles=['CO₂ total (mln kg)', 'NOx total (mln kg)', 'PM10 total (mln kg)'],\n",
    "    ylabels=['CO₂ (mln kg)', 'NOx (mln kg)', 'PM10 (mln kg)'],\n",
    "    main_title='Passenger cars — total emissions per year'\n",
    ")\n",
    "fig_totals.show()\n",
    "\n",
    "fig_intensity = three_line_subplots(\n",
    "    df, 'Jaar',\n",
    "    y_cols=['CO2_g_per_km', 'NOx_g_per_km', 'PM10_g_per_km'],\n",
    "    titles=['CO₂ intensity (g/km)', 'NOx intensity (g/km)', 'PM10 intensity (g/km)'],\n",
    "    ylabels=['CO₂ (g/km)', 'NOx (g/km)', 'PM10 (g/km)'],\n",
    "    main_title='Passenger cars — emission intensities (g/km)'\n",
    ")\n",
    "fig_intensity.show()"
   ]
  },
  {
   "cell_type": "code",
   "execution_count": 2,
   "id": "6449005c",
   "metadata": {},
   "outputs": [
    {
     "name": "stdout",
     "output_type": "stream",
     "text": [
      "\n",
      "=== Trendvergelijking inclusief 2020 ===\n",
      "CO2  : start=159.936, end=145.954, Δ%=-8.74%, CAGR=-1.81%/yr, slope=-2.7753 g/km/yr\n",
      "NOx  : start=0.263, end=0.174, Δ%=-33.86%, CAGR=-7.93%/yr, slope=-0.0184 g/km/yr\n",
      "PM10 : start=0.021, end=0.019, Δ%=-5.66%, CAGR=-1.16%/yr, slope=-0.0002 g/km/yr\n",
      "- Op basis van percentuele daling (2018→2023): NOx daalt sneller dan CO₂; PM10 niet sneller dan CO₂.\n",
      "- Op basis van CAGR (per jaar): NOx daalt sneller dan CO₂; PM10 niet sneller dan CO₂.\n",
      "- Op basis van lineaire slope: NOx niet sneller dan CO₂; PM10 niet sneller dan CO₂.\n",
      "\n",
      "=== Trendvergelijking exclusief 2020 ===\n",
      "CO2  : start=159.936, end=145.954, Δ%=-8.74%, CAGR=-1.81%/yr, slope=-2.7499 g/km/yr\n",
      "NOx  : start=0.263, end=0.174, Δ%=-33.86%, CAGR=-7.93%/yr, slope=-0.0187 g/km/yr\n",
      "PM10 : start=0.021, end=0.019, Δ%=-5.66%, CAGR=-1.16%/yr, slope=-0.0002 g/km/yr\n",
      "- Op basis van percentuele daling (2018→2023): NOx daalt sneller dan CO₂; PM10 niet sneller dan CO₂.\n",
      "- Op basis van CAGR (per jaar): NOx daalt sneller dan CO₂; PM10 niet sneller dan CO₂.\n",
      "- Op basis van lineaire slope: NOx niet sneller dan CO₂; PM10 niet sneller dan CO₂.\n"
     ]
    }
   ],
   "source": [
    "import numpy as np\n",
    "\n",
    "def trend_stats(df_in, years=(2018, 2023)):\n",
    "    # snijd op gewenste jaren en drop NaN\n",
    "    d = df_in[(df_in['Jaar'] >= years[0]) & (df_in['Jaar'] <= years[1])].copy()\n",
    "    d = d[['Jaar','CO2_g_per_km','NOx_g_per_km','PM10_g_per_km']].dropna()\n",
    "    d = d.sort_values('Jaar')\n",
    "\n",
    "    if d.empty or len(d) < 2:\n",
    "        return None\n",
    "\n",
    "    y0, y1 = d['Jaar'].iloc[0], d['Jaar'].iloc[-1]\n",
    "    n_years = y1 - y0  # aantal jaarstappen voor CAGR\n",
    "\n",
    "    out = {}\n",
    "    for pol in ['CO2_g_per_km','NOx_g_per_km','PM10_g_per_km']:\n",
    "        v0 = d[pol].iloc[0]\n",
    "        v1 = d[pol].iloc[-1]\n",
    "        pct = (v1 - v0) / v0 * 100.0\n",
    "        cagr = (v1 / v0)**(1/n_years) - 1 if v0 > 0 and n_years > 0 else np.nan\n",
    "        # lineaire slope (g/km per jaar)\n",
    "        b1, b0 = np.polyfit(d['Jaar'].values, d[pol].values, 1)\n",
    "        out[pol] = {'start': v0, 'end': v1, 'pct_change_%': pct, 'cagr_%py': cagr*100, 'slope_gpkm_per_year': b1}\n",
    "    return out\n",
    "\n",
    "def pretty_compare(stats, label):\n",
    "    if stats is None:\n",
    "        print(f\"[{label}] Onvoldoende data.\")\n",
    "        return\n",
    "    print(f\"\\n=== Trendvergelijking {label} ===\")\n",
    "    for pol, s in stats.items():\n",
    "        print(f\"{pol.replace('_g_per_km',''):5s}: start={s['start']:.3f}, end={s['end']:.3f}, \"\n",
    "              f\"Δ%={s['pct_change_%']:.2f}%, CAGR={s['cagr_%py']:.2f}%/yr, slope={s['slope_gpkm_per_year']:.4f} g/km/yr\")\n",
    "\n",
    "    # “Sneller dalen” = grotere (absoluut) negatieve daling dan CO2\n",
    "    def faster_than_CO2(metric):\n",
    "        co2 = stats['CO2_g_per_km'][metric]\n",
    "        nox = stats['NOx_g_per_km'][metric]\n",
    "        pm  = stats['PM10_g_per_km'][metric]\n",
    "        def verdict(x):  # True = sneller dalen dan CO2\n",
    "            # we nemen \"sneller dalen\" als: meer negatief dan CO2 (kleiner getal)\n",
    "            return x < co2\n",
    "        return verdict(nox), verdict(pm)\n",
    "\n",
    "    for metric, labelm in [('pct_change_%', 'percentuele daling (2018→2023)'),\n",
    "                           ('cagr_%py',     'CAGR (per jaar)'),\n",
    "                           ('slope_gpkm_per_year','lineaire slope')]:\n",
    "        nox_fast, pm_fast = faster_than_CO2(metric)\n",
    "        print(f\"- Op basis van {labelm}: \"\n",
    "              f\"NOx {'daalt sneller' if nox_fast else 'niet sneller'} dan CO₂; \"\n",
    "              f\"PM10 {'daalt sneller' if pm_fast else 'niet sneller'} dan CO₂.\")\n",
    "\n",
    "# 8a) Met alle jaren (2018–2023)\n",
    "stats_all = trend_stats(df, (2018, 2023))\n",
    "pretty_compare(stats_all, \"inclusief 2020\")\n",
    "\n",
    "# 8b) Robuustheid: zonder 2020\n",
    "df_no2020 = df[df['Jaar'] != 2020].copy()\n",
    "stats_no2020 = trend_stats(df_no2020, (2018, 2023))\n",
    "pretty_compare(stats_no2020, \"exclusief 2020\")"
   ]
  },
  {
   "cell_type": "code",
   "execution_count": 3,
   "id": "30008376",
   "metadata": {},
   "outputs": [
    {
     "data": {
      "image/png": "[encoded data removed]",
      "text/plain": [
       "<Figure size 640x480 with 1 Axes>"
      ]
     },
     "metadata": {},
     "output_type": "display_data"
    },
    {
     "data": {
      "image/png": "[encoded data removed]",
      "text/plain": [
       "<Figure size 640x480 with 1 Axes>"
      ]
     },
     "metadata": {},
     "output_type": "display_data"
    },
    {
     "data": {
      "image/png": "[encoded data removed]",
      "text/plain": [
       "<Figure size 640x480 with 1 Axes>"
      ]
     },
     "metadata": {},
     "output_type": "display_data"
    },
    {
     "data": {
      "image/png": "[encoded data removed]",
      "text/plain": [
       "<Figure size 640x480 with 1 Axes>"
      ]
     },
     "metadata": {},
     "output_type": "display_data"
    },
    {
     "data": {
      "image/png": "[encoded data removed]",
      "text/plain": [
       "<Figure size 640x480 with 1 Axes>"
      ]
     },
     "metadata": {},
     "output_type": "display_data"
    },
    {
     "data": {
      "image/png": "[encoded data removed]",
      "text/plain": [
       "<Figure size 640x480 with 1 Axes>"
      ]
     },
     "metadata": {},
     "output_type": "display_data"
    },
    {
     "data": {
      "image/png": "[encoded data removed]",
      "text/plain": [
       "<Figure size 640x480 with 1 Axes>"
      ]
     },
     "metadata": {},
     "output_type": "display_data"
    },
    {
     "data": {
      "image/png": "[encoded data removed]",
      "text/plain": [
       "<Figure size 640x480 with 1 Axes>"
      ]
     },
     "metadata": {},
     "output_type": "display_data"
    }
   ],
   "source": [
    "# ========= 9) Visualisaties van trends & vergelijkingen =========\n",
    "import matplotlib.pyplot as plt\n",
    "import numpy as np\n",
    "\n",
    "# 9a) Tijdreeks: intensiteiten 2018–2023\n",
    "plt.figure()\n",
    "plt.plot(df['Jaar'], df['CO2_g_per_km'],  marker='o', label='CO₂')\n",
    "plt.plot(df['Jaar'], df['NOx_g_per_km'],  marker='o', label='NOx')\n",
    "plt.plot(df['Jaar'], df['PM10_g_per_km'], marker='o', label='PM10')\n",
    "plt.title('Passenger-car emission intensities (g/km)')\n",
    "plt.xlabel('Year'); plt.ylabel('g/km'); plt.grid(True, linestyle='--', alpha=0.6)\n",
    "plt.legend(); plt.tight_layout(); plt.show()\n",
    "\n",
    "# 9b) Hulpfunctie: barplot voor Δ%, CAGR en slope uit de stats-dicts\n",
    "def plot_stats_bars(stats_dict, title_suffix):\n",
    "    if stats_dict is None: \n",
    "        print(f\"[{title_suffix}] No data to plot.\"); \n",
    "        return\n",
    "    labels = ['CO₂','NOx','PM10']\n",
    "    keys   = ['CO2_g_per_km','NOx_g_per_km','PM10_g_per_km']\n",
    "\n",
    "    # Verzamel waarden\n",
    "    pct   = [stats_dict[k]['pct_change_%'] for k in keys]\n",
    "    cagr  = [stats_dict[k]['cagr_%py']     for k in keys]\n",
    "    slope = [stats_dict[k]['slope_gpkm_per_year'] for k in keys]\n",
    "\n",
    "    # Bar 1: percentuele verandering 2018→2023\n",
    "    plt.figure()\n",
    "    x = np.arange(len(labels))\n",
    "    plt.bar(x, pct)\n",
    "    plt.xticks(x, labels)\n",
    "    plt.axhline(0, color='k', linewidth=0.8)\n",
    "    plt.title(f'Percent change (2018→2023) — {title_suffix}')\n",
    "    plt.ylabel('Δ%'); plt.grid(axis='y', linestyle='--', alpha=0.5)\n",
    "    plt.tight_layout(); plt.show()\n",
    "\n",
    "    # Bar 2: CAGR (%/jaar)\n",
    "    plt.figure()\n",
    "    plt.bar(x, cagr)\n",
    "    plt.xticks(x, labels)\n",
    "    plt.axhline(0, color='k', linewidth=0.8)\n",
    "    plt.title(f'CAGR (%/year) — {title_suffix}')\n",
    "    plt.ylabel('% per year'); plt.grid(axis='y', linestyle='--', alpha=0.5)\n",
    "    plt.tight_layout(); plt.show()\n",
    "\n",
    "    # Bar 3: Lineaire slope (g/km/jaar)\n",
    "    plt.figure()\n",
    "    plt.bar(x, slope)\n",
    "    plt.xticks(x, labels)\n",
    "    plt.axhline(0, color='k', linewidth=0.8)\n",
    "    plt.title(f'Linear slope (g/km/year) — {title_suffix}')\n",
    "    plt.ylabel('g/km per year'); plt.grid(axis='y', linestyle='--', alpha=0.5)\n",
    "    plt.tight_layout(); plt.show()\n",
    "\n",
    "# 9c) Maak de vergelijkingsplots (incl. en excl. 2020)\n",
    "plot_stats_bars(stats_all,    'including 2020')\n",
    "plot_stats_bars(stats_no2020, 'excluding 2020')\n",
    "\n",
    "# (Optioneel) 9d) Tijdreeks zonder 2020 als extra lijn\n",
    "df_ex = df[df['Jaar'] != 2020]\n",
    "plt.figure()\n",
    "plt.plot(df['Jaar'],    df['CO2_g_per_km'],  marker='o', label='CO₂ (all years)')\n",
    "plt.plot(df_ex['Jaar'], df_ex['CO2_g_per_km'],  marker='o', linestyle='--', label='CO₂ (no 2020)')\n",
    "plt.plot(df['Jaar'],    df['NOx_g_per_km'],  marker='o', label='NOx (all years)')\n",
    "plt.plot(df_ex['Jaar'], df_ex['NOx_g_per_km'],  marker='o', linestyle='--', label='NOx (no 2020)')\n",
    "plt.plot(df['Jaar'],    df['PM10_g_per_km'], marker='o', label='PM10 (all years)')\n",
    "plt.plot(df_ex['Jaar'], df_ex['PM10_g_per_km'], marker='o', linestyle='--', label='PM10 (no 2020)')\n",
    "plt.title('Intensities with and without 2020')\n",
    "plt.xlabel('Year'); plt.ylabel('g/km'); plt.grid(True, linestyle='--', alpha=0.6)\n",
    "plt.legend(ncol=2); plt.tight_layout(); plt.show()\n"
   ]
  }
 ],
 "metadata": {
  "kernelspec": {
   "display_name": "TIL",
   "language": "python",
   "name": "python3"
  },
  "language_info": {
   "codemirror_mode": {
    "name": "ipython",
    "version": 3
   },
   "file_extension": ".py",
   "mimetype": "text/x-python",
   "name": "python",
   "nbconvert_exporter": "python",
   "pygments_lexer": "ipython3",
   "version": "3.13.7"
  }
 },
 "nbformat": 4,
 "nbformat_minor": 5
}
